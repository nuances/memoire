{
 "cells": [
  {
   "cell_type": "markdown",
   "metadata": {},
   "source": [
    "# Importation"
   ]
  },
  {
   "cell_type": "code",
   "execution_count": 20,
   "metadata": {
    "collapsed": true
   },
   "outputs": [],
   "source": [
    "import pandas as pd\n",
    "import nltk"
   ]
  },
  {
   "cell_type": "markdown",
   "metadata": {},
   "source": [
    "# Paramètres"
   ]
  },
  {
   "cell_type": "code",
   "execution_count": 21,
   "metadata": {},
   "outputs": [
    {
     "data": {
      "text/html": [
       "<div>\n",
       "<style scoped>\n",
       "    .dataframe tbody tr th:only-of-type {\n",
       "        vertical-align: middle;\n",
       "    }\n",
       "\n",
       "    .dataframe tbody tr th {\n",
       "        vertical-align: top;\n",
       "    }\n",
       "\n",
       "    .dataframe thead th {\n",
       "        text-align: right;\n",
       "    }\n",
       "</style>\n",
       "<table border=\"1\" class=\"dataframe\">\n",
       "  <thead>\n",
       "    <tr style=\"text-align: right;\">\n",
       "      <th></th>\n",
       "      <th>Unnamed: 0</th>\n",
       "      <th>ego_id</th>\n",
       "      <th>text</th>\n",
       "    </tr>\n",
       "  </thead>\n",
       "  <tbody>\n",
       "    <tr>\n",
       "      <th>0</th>\n",
       "      <td>125</td>\n",
       "      <td>13a96c1df590dc2dbd1e85a16637183f</td>\n",
       "      <td>16 ecris de francais, 13 a l'oral, 14 en SVT, ...</td>\n",
       "    </tr>\n",
       "    <tr>\n",
       "      <th>1</th>\n",
       "      <td>114</td>\n",
       "      <td>13a96c1df590dc2dbd1e85a16637183f</td>\n",
       "      <td>\"Au vu de ce que les hommes de Rémi Garde prop...</td>\n",
       "    </tr>\n",
       "    <tr>\n",
       "      <th>2</th>\n",
       "      <td>38</td>\n",
       "      <td>13a96c1df590dc2dbd1e85a16637183f</td>\n",
       "      <td>Fastidieux les remerciements avec le journal.....</td>\n",
       "    </tr>\n",
       "    <tr>\n",
       "      <th>3</th>\n",
       "      <td>126</td>\n",
       "      <td>13a96c1df590dc2dbd1e85a16637183f</td>\n",
       "      <td>Arbitre de merde mais 3-1 !!!!!!!!!!!!\\ncest p...</td>\n",
       "    </tr>\n",
       "    <tr>\n",
       "      <th>4</th>\n",
       "      <td>25</td>\n",
       "      <td>81efe2874c7c3fbfc88fce73067dacb9</td>\n",
       "      <td>Bin j'irai bien pas au travail aujourd'hui...\\...</td>\n",
       "    </tr>\n",
       "  </tbody>\n",
       "</table>\n",
       "</div>"
      ],
      "text/plain": [
       "   Unnamed: 0                            ego_id  \\\n",
       "0         125  13a96c1df590dc2dbd1e85a16637183f   \n",
       "1         114  13a96c1df590dc2dbd1e85a16637183f   \n",
       "2          38  13a96c1df590dc2dbd1e85a16637183f   \n",
       "3         126  13a96c1df590dc2dbd1e85a16637183f   \n",
       "4          25  81efe2874c7c3fbfc88fce73067dacb9   \n",
       "\n",
       "                                                text  \n",
       "0  16 ecris de francais, 13 a l'oral, 14 en SVT, ...  \n",
       "1  \"Au vu de ce que les hommes de Rémi Garde prop...  \n",
       "2  Fastidieux les remerciements avec le journal.....  \n",
       "3  Arbitre de merde mais 3-1 !!!!!!!!!!!!\\ncest p...  \n",
       "4  Bin j'irai bien pas au travail aujourd'hui...\\...  "
      ]
     },
     "execution_count": 21,
     "metadata": {},
     "output_type": "execute_result"
    }
   ],
   "source": [
    "DATA_PATH = './'\n",
    "filename  = 'sample4stm.csv'\n",
    "df = pd.read_csv(DATA_PATH + filename)\n",
    "\n",
    "df.head()"
   ]
  },
  {
   "cell_type": "markdown",
   "metadata": {},
   "source": [
    "# Sélection de colonne"
   ]
  },
  {
   "cell_type": "code",
   "execution_count": 22,
   "metadata": {},
   "outputs": [
    {
     "data": {
      "text/html": [
       "<div>\n",
       "<style scoped>\n",
       "    .dataframe tbody tr th:only-of-type {\n",
       "        vertical-align: middle;\n",
       "    }\n",
       "\n",
       "    .dataframe tbody tr th {\n",
       "        vertical-align: top;\n",
       "    }\n",
       "\n",
       "    .dataframe thead th {\n",
       "        text-align: right;\n",
       "    }\n",
       "</style>\n",
       "<table border=\"1\" class=\"dataframe\">\n",
       "  <thead>\n",
       "    <tr style=\"text-align: right;\">\n",
       "      <th></th>\n",
       "      <th>text</th>\n",
       "    </tr>\n",
       "  </thead>\n",
       "  <tbody>\n",
       "    <tr>\n",
       "      <th>0</th>\n",
       "      <td>16 ecris de francais, 13 a l'oral, 14 en SVT, ...</td>\n",
       "    </tr>\n",
       "    <tr>\n",
       "      <th>1</th>\n",
       "      <td>\"Au vu de ce que les hommes de Rémi Garde prop...</td>\n",
       "    </tr>\n",
       "    <tr>\n",
       "      <th>2</th>\n",
       "      <td>Fastidieux les remerciements avec le journal.....</td>\n",
       "    </tr>\n",
       "    <tr>\n",
       "      <th>3</th>\n",
       "      <td>Arbitre de merde mais 3-1 !!!!!!!!!!!!\\ncest p...</td>\n",
       "    </tr>\n",
       "    <tr>\n",
       "      <th>4</th>\n",
       "      <td>Bin j'irai bien pas au travail aujourd'hui...\\...</td>\n",
       "    </tr>\n",
       "  </tbody>\n",
       "</table>\n",
       "</div>"
      ],
      "text/plain": [
       "                                                text\n",
       "0  16 ecris de francais, 13 a l'oral, 14 en SVT, ...\n",
       "1  \"Au vu de ce que les hommes de Rémi Garde prop...\n",
       "2  Fastidieux les remerciements avec le journal.....\n",
       "3  Arbitre de merde mais 3-1 !!!!!!!!!!!!\\ncest p...\n",
       "4  Bin j'irai bien pas au travail aujourd'hui...\\..."
      ]
     },
     "execution_count": 22,
     "metadata": {},
     "output_type": "execute_result"
    }
   ],
   "source": [
    "df = df[['text']]\n",
    "\n",
    "df.head()"
   ]
  },
  {
   "cell_type": "markdown",
   "metadata": {},
   "source": [
    "# Élimination des cellules vides"
   ]
  },
  {
   "cell_type": "code",
   "execution_count": 23,
   "metadata": {},
   "outputs": [
    {
     "data": {
      "text/html": [
       "<div>\n",
       "<style scoped>\n",
       "    .dataframe tbody tr th:only-of-type {\n",
       "        vertical-align: middle;\n",
       "    }\n",
       "\n",
       "    .dataframe tbody tr th {\n",
       "        vertical-align: top;\n",
       "    }\n",
       "\n",
       "    .dataframe thead th {\n",
       "        text-align: right;\n",
       "    }\n",
       "</style>\n",
       "<table border=\"1\" class=\"dataframe\">\n",
       "  <thead>\n",
       "    <tr style=\"text-align: right;\">\n",
       "      <th></th>\n",
       "      <th>text</th>\n",
       "    </tr>\n",
       "  </thead>\n",
       "  <tbody>\n",
       "    <tr>\n",
       "      <th>0</th>\n",
       "      <td>16 ecris de francais, 13 a l'oral, 14 en SVT, ...</td>\n",
       "    </tr>\n",
       "    <tr>\n",
       "      <th>1</th>\n",
       "      <td>\"Au vu de ce que les hommes de Rémi Garde prop...</td>\n",
       "    </tr>\n",
       "    <tr>\n",
       "      <th>2</th>\n",
       "      <td>Fastidieux les remerciements avec le journal.....</td>\n",
       "    </tr>\n",
       "    <tr>\n",
       "      <th>3</th>\n",
       "      <td>Arbitre de merde mais 3-1 !!!!!!!!!!!!\\ncest p...</td>\n",
       "    </tr>\n",
       "    <tr>\n",
       "      <th>4</th>\n",
       "      <td>Bin j'irai bien pas au travail aujourd'hui...\\...</td>\n",
       "    </tr>\n",
       "  </tbody>\n",
       "</table>\n",
       "</div>"
      ],
      "text/plain": [
       "                                                text\n",
       "0  16 ecris de francais, 13 a l'oral, 14 en SVT, ...\n",
       "1  \"Au vu de ce que les hommes de Rémi Garde prop...\n",
       "2  Fastidieux les remerciements avec le journal.....\n",
       "3  Arbitre de merde mais 3-1 !!!!!!!!!!!!\\ncest p...\n",
       "4  Bin j'irai bien pas au travail aujourd'hui...\\..."
      ]
     },
     "execution_count": 23,
     "metadata": {},
     "output_type": "execute_result"
    }
   ],
   "source": [
    "df=df.dropna(axis=0, how='any')\n",
    "\n",
    "df.head()"
   ]
  },
  {
   "cell_type": "markdown",
   "metadata": {},
   "source": [
    "# Enlèvement de ponctuation"
   ]
  },
  {
   "cell_type": "code",
   "execution_count": 24,
   "metadata": {},
   "outputs": [
    {
     "data": {
      "text/html": [
       "<div>\n",
       "<style scoped>\n",
       "    .dataframe tbody tr th:only-of-type {\n",
       "        vertical-align: middle;\n",
       "    }\n",
       "\n",
       "    .dataframe tbody tr th {\n",
       "        vertical-align: top;\n",
       "    }\n",
       "\n",
       "    .dataframe thead th {\n",
       "        text-align: right;\n",
       "    }\n",
       "</style>\n",
       "<table border=\"1\" class=\"dataframe\">\n",
       "  <thead>\n",
       "    <tr style=\"text-align: right;\">\n",
       "      <th></th>\n",
       "      <th>text</th>\n",
       "      <th>Message_clean</th>\n",
       "    </tr>\n",
       "  </thead>\n",
       "  <tbody>\n",
       "    <tr>\n",
       "      <th>0</th>\n",
       "      <td>16 ecris de francais, 13 a l'oral, 14 en SVT, ...</td>\n",
       "      <td>16 ecris de francais 13 a l oral 14 en SVT 14 ...</td>\n",
       "    </tr>\n",
       "    <tr>\n",
       "      <th>1</th>\n",
       "      <td>\"Au vu de ce que les hommes de Rémi Garde prop...</td>\n",
       "      <td>Au vu de ce que les hommes de R mi Garde propo...</td>\n",
       "    </tr>\n",
       "    <tr>\n",
       "      <th>2</th>\n",
       "      <td>Fastidieux les remerciements avec le journal.....</td>\n",
       "      <td>Fastidieux les remerciements avec le journal M...</td>\n",
       "    </tr>\n",
       "    <tr>\n",
       "      <th>3</th>\n",
       "      <td>Arbitre de merde mais 3-1 !!!!!!!!!!!!\\ncest p...</td>\n",
       "      <td>Arbitre de merde mais 3 1 cest pas finit cest ...</td>\n",
       "    </tr>\n",
       "    <tr>\n",
       "      <th>4</th>\n",
       "      <td>Bin j'irai bien pas au travail aujourd'hui...\\...</td>\n",
       "      <td>Bin j irai bien pas au travail aujourd hui Ben...</td>\n",
       "    </tr>\n",
       "  </tbody>\n",
       "</table>\n",
       "</div>"
      ],
      "text/plain": [
       "                                                text  \\\n",
       "0  16 ecris de francais, 13 a l'oral, 14 en SVT, ...   \n",
       "1  \"Au vu de ce que les hommes de Rémi Garde prop...   \n",
       "2  Fastidieux les remerciements avec le journal.....   \n",
       "3  Arbitre de merde mais 3-1 !!!!!!!!!!!!\\ncest p...   \n",
       "4  Bin j'irai bien pas au travail aujourd'hui...\\...   \n",
       "\n",
       "                                       Message_clean  \n",
       "0  16 ecris de francais 13 a l oral 14 en SVT 14 ...  \n",
       "1  Au vu de ce que les hommes de R mi Garde propo...  \n",
       "2  Fastidieux les remerciements avec le journal M...  \n",
       "3  Arbitre de merde mais 3 1 cest pas finit cest ...  \n",
       "4  Bin j irai bien pas au travail aujourd hui Ben...  "
      ]
     },
     "execution_count": 24,
     "metadata": {},
     "output_type": "execute_result"
    }
   ],
   "source": [
    "import re\n",
    "\n",
    "def keep_ascii(a):\n",
    "    text = ' '.join(re.compile('\\w+').findall(a))\n",
    "    return ''.join([i if ord(i) < 128 else ' ' for i in text])\n",
    "\n",
    "\n",
    "df['Message_clean'] = df.text.apply( lambda r : keep_ascii(r)  ) \n",
    "\n",
    "df.head()"
   ]
  },
  {
   "cell_type": "markdown",
   "metadata": {},
   "source": [
    "# Tokenisation"
   ]
  },
  {
   "cell_type": "code",
   "execution_count": 25,
   "metadata": {},
   "outputs": [
    {
     "data": {
      "text/html": [
       "<div>\n",
       "<style scoped>\n",
       "    .dataframe tbody tr th:only-of-type {\n",
       "        vertical-align: middle;\n",
       "    }\n",
       "\n",
       "    .dataframe tbody tr th {\n",
       "        vertical-align: top;\n",
       "    }\n",
       "\n",
       "    .dataframe thead th {\n",
       "        text-align: right;\n",
       "    }\n",
       "</style>\n",
       "<table border=\"1\" class=\"dataframe\">\n",
       "  <thead>\n",
       "    <tr style=\"text-align: right;\">\n",
       "      <th></th>\n",
       "      <th>text</th>\n",
       "      <th>Message_clean</th>\n",
       "      <th>tokens_all</th>\n",
       "    </tr>\n",
       "  </thead>\n",
       "  <tbody>\n",
       "    <tr>\n",
       "      <th>0</th>\n",
       "      <td>16 ecris de francais, 13 a l'oral, 14 en SVT, ...</td>\n",
       "      <td>16 ecris de francais 13 a l oral 14 en SVT 14 ...</td>\n",
       "      <td>[16, ecris, de, francais, 13, a, l, oral, 14, ...</td>\n",
       "    </tr>\n",
       "    <tr>\n",
       "      <th>1</th>\n",
       "      <td>\"Au vu de ce que les hommes de Rémi Garde prop...</td>\n",
       "      <td>Au vu de ce que les hommes de R mi Garde propo...</td>\n",
       "      <td>[au, vu, de, ce, que, les, hommes, de, r, mi, ...</td>\n",
       "    </tr>\n",
       "    <tr>\n",
       "      <th>2</th>\n",
       "      <td>Fastidieux les remerciements avec le journal.....</td>\n",
       "      <td>Fastidieux les remerciements avec le journal M...</td>\n",
       "      <td>[fastidieux, les, remerciements, avec, le, jou...</td>\n",
       "    </tr>\n",
       "    <tr>\n",
       "      <th>3</th>\n",
       "      <td>Arbitre de merde mais 3-1 !!!!!!!!!!!!\\ncest p...</td>\n",
       "      <td>Arbitre de merde mais 3 1 cest pas finit cest ...</td>\n",
       "      <td>[arbitre, de, merde, mais, 3, 1, cest, pas, fi...</td>\n",
       "    </tr>\n",
       "    <tr>\n",
       "      <th>4</th>\n",
       "      <td>Bin j'irai bien pas au travail aujourd'hui...\\...</td>\n",
       "      <td>Bin j irai bien pas au travail aujourd hui Ben...</td>\n",
       "      <td>[bin, j, irai, bien, pas, au, travail, aujourd...</td>\n",
       "    </tr>\n",
       "  </tbody>\n",
       "</table>\n",
       "</div>"
      ],
      "text/plain": [
       "                                                text  \\\n",
       "0  16 ecris de francais, 13 a l'oral, 14 en SVT, ...   \n",
       "1  \"Au vu de ce que les hommes de Rémi Garde prop...   \n",
       "2  Fastidieux les remerciements avec le journal.....   \n",
       "3  Arbitre de merde mais 3-1 !!!!!!!!!!!!\\ncest p...   \n",
       "4  Bin j'irai bien pas au travail aujourd'hui...\\...   \n",
       "\n",
       "                                       Message_clean  \\\n",
       "0  16 ecris de francais 13 a l oral 14 en SVT 14 ...   \n",
       "1  Au vu de ce que les hommes de R mi Garde propo...   \n",
       "2  Fastidieux les remerciements avec le journal M...   \n",
       "3  Arbitre de merde mais 3 1 cest pas finit cest ...   \n",
       "4  Bin j irai bien pas au travail aujourd hui Ben...   \n",
       "\n",
       "                                          tokens_all  \n",
       "0  [16, ecris, de, francais, 13, a, l, oral, 14, ...  \n",
       "1  [au, vu, de, ce, que, les, hommes, de, r, mi, ...  \n",
       "2  [fastidieux, les, remerciements, avec, le, jou...  \n",
       "3  [arbitre, de, merde, mais, 3, 1, cest, pas, fi...  \n",
       "4  [bin, j, irai, bien, pas, au, travail, aujourd...  "
      ]
     },
     "execution_count": 25,
     "metadata": {},
     "output_type": "execute_result"
    }
   ],
   "source": [
    "from nltk import word_tokenize\n",
    "\n",
    "# création d'une nouvelle colonne pour stocker les tokens\n",
    "df['tokens_all'] = df.Message_clean.apply(\n",
    "   lambda r : word_tokenize(str(r).lower())\n",
    ")\n",
    "\n",
    "df.head()"
   ]
  },
  {
   "cell_type": "markdown",
   "metadata": {},
   "source": [
    "# Enlèvement des stopwords"
   ]
  },
  {
   "cell_type": "code",
   "execution_count": 26,
   "metadata": {},
   "outputs": [
    {
     "name": "stdout",
     "output_type": "stream",
     "text": [
      "['au', 'aux', 'avec', 'ce', 'ces', 'dans', 'de', 'des', 'du', 'elle', 'en', 'et', 'eux', 'il', 'je', 'la', 'le', 'leur', 'lui', 'ma', 'mais', 'me', 'même', 'mes', 'moi', 'mon', 'ne', 'nos', 'notre', 'nous', 'on', 'ou', 'par', 'pas', 'pour', 'qu', 'que', 'qui', 'sa', 'se', 'ses', 'son', 'sur', 'ta', 'te', 'tes', 'toi', 'ton', 'tu', 'un', 'une', 'vos', 'votre', 'vous', 'c', 'd', 'j', 'l', 'à', 'm', 'n', 's', 't', 'y', 'été', 'étée', 'étées', 'étés', 'étant', 'étante', 'étants', 'étantes', 'suis', 'es', 'est', 'sommes', 'êtes', 'sont', 'serai', 'seras', 'sera', 'serons', 'serez', 'seront', 'serais', 'serait', 'serions', 'seriez', 'seraient', 'étais', 'était', 'étions', 'étiez', 'étaient', 'fus', 'fut', 'fûmes', 'fûtes', 'furent', 'sois', 'soit', 'soyons', 'soyez', 'soient', 'fusse', 'fusses', 'fût', 'fussions', 'fussiez', 'fussent', 'ayant', 'ayante', 'ayantes', 'ayants', 'eu', 'eue', 'eues', 'eus', 'ai', 'as', 'avons', 'avez', 'ont', 'aurai', 'auras', 'aura', 'aurons', 'aurez', 'auront', 'aurais', 'aurait', 'aurions', 'auriez', 'auraient', 'avais', 'avait', 'avions', 'aviez', 'avaient', 'eut', 'eûmes', 'eûtes', 'eurent', 'aie', 'aies', 'ait', 'ayons', 'ayez', 'aient', 'eusse', 'eusses', 'eût', 'eussions', 'eussiez', 'eussent']\n"
     ]
    }
   ],
   "source": [
    "## PENSER À CHANGER LA LANGUE EN FONCTION\n",
    "\n",
    "from nltk.corpus import stopwords\n",
    "\n",
    "list_stopwords = stopwords.words('french')\n",
    "\n",
    "print(list_stopwords)"
   ]
  },
  {
   "cell_type": "code",
   "execution_count": 27,
   "metadata": {},
   "outputs": [
    {
     "data": {
      "text/html": [
       "<div>\n",
       "<style scoped>\n",
       "    .dataframe tbody tr th:only-of-type {\n",
       "        vertical-align: middle;\n",
       "    }\n",
       "\n",
       "    .dataframe tbody tr th {\n",
       "        vertical-align: top;\n",
       "    }\n",
       "\n",
       "    .dataframe thead th {\n",
       "        text-align: right;\n",
       "    }\n",
       "</style>\n",
       "<table border=\"1\" class=\"dataframe\">\n",
       "  <thead>\n",
       "    <tr style=\"text-align: right;\">\n",
       "      <th></th>\n",
       "      <th>text</th>\n",
       "      <th>Message_clean</th>\n",
       "      <th>tokens_all</th>\n",
       "      <th>tokens</th>\n",
       "    </tr>\n",
       "  </thead>\n",
       "  <tbody>\n",
       "    <tr>\n",
       "      <th>0</th>\n",
       "      <td>16 ecris de francais, 13 a l'oral, 14 en SVT, ...</td>\n",
       "      <td>16 ecris de francais 13 a l oral 14 en SVT 14 ...</td>\n",
       "      <td>[16, ecris, de, francais, 13, a, l, oral, 14, ...</td>\n",
       "      <td>[ecris, francais, oral, svt, tpe, fais, hum, g...</td>\n",
       "    </tr>\n",
       "    <tr>\n",
       "      <th>1</th>\n",
       "      <td>\"Au vu de ce que les hommes de Rémi Garde prop...</td>\n",
       "      <td>Au vu de ce que les hommes de R mi Garde propo...</td>\n",
       "      <td>[au, vu, de, ce, que, les, hommes, de, r, mi, ...</td>\n",
       "      <td>[les, hommes, garde, proposent, depuis, but, s...</td>\n",
       "    </tr>\n",
       "    <tr>\n",
       "      <th>2</th>\n",
       "      <td>Fastidieux les remerciements avec le journal.....</td>\n",
       "      <td>Fastidieux les remerciements avec le journal M...</td>\n",
       "      <td>[fastidieux, les, remerciements, avec, le, jou...</td>\n",
       "      <td>[fastidieux, les, remerciements, journal, merc...</td>\n",
       "    </tr>\n",
       "    <tr>\n",
       "      <th>3</th>\n",
       "      <td>Arbitre de merde mais 3-1 !!!!!!!!!!!!\\ncest p...</td>\n",
       "      <td>Arbitre de merde mais 3 1 cest pas finit cest ...</td>\n",
       "      <td>[arbitre, de, merde, mais, 3, 1, cest, pas, fi...</td>\n",
       "      <td>[arbitre, merde, cest, finit, cest, finit, hug...</td>\n",
       "    </tr>\n",
       "    <tr>\n",
       "      <th>4</th>\n",
       "      <td>Bin j'irai bien pas au travail aujourd'hui...\\...</td>\n",
       "      <td>Bin j irai bien pas au travail aujourd hui Ben...</td>\n",
       "      <td>[bin, j, irai, bien, pas, au, travail, aujourd...</td>\n",
       "      <td>[bin, irai, bien, travail, aujourd, hui, ben, ...</td>\n",
       "    </tr>\n",
       "  </tbody>\n",
       "</table>\n",
       "</div>"
      ],
      "text/plain": [
       "                                                text  \\\n",
       "0  16 ecris de francais, 13 a l'oral, 14 en SVT, ...   \n",
       "1  \"Au vu de ce que les hommes de Rémi Garde prop...   \n",
       "2  Fastidieux les remerciements avec le journal.....   \n",
       "3  Arbitre de merde mais 3-1 !!!!!!!!!!!!\\ncest p...   \n",
       "4  Bin j'irai bien pas au travail aujourd'hui...\\...   \n",
       "\n",
       "                                       Message_clean  \\\n",
       "0  16 ecris de francais 13 a l oral 14 en SVT 14 ...   \n",
       "1  Au vu de ce que les hommes de R mi Garde propo...   \n",
       "2  Fastidieux les remerciements avec le journal M...   \n",
       "3  Arbitre de merde mais 3 1 cest pas finit cest ...   \n",
       "4  Bin j irai bien pas au travail aujourd hui Ben...   \n",
       "\n",
       "                                          tokens_all  \\\n",
       "0  [16, ecris, de, francais, 13, a, l, oral, 14, ...   \n",
       "1  [au, vu, de, ce, que, les, hommes, de, r, mi, ...   \n",
       "2  [fastidieux, les, remerciements, avec, le, jou...   \n",
       "3  [arbitre, de, merde, mais, 3, 1, cest, pas, fi...   \n",
       "4  [bin, j, irai, bien, pas, au, travail, aujourd...   \n",
       "\n",
       "                                              tokens  \n",
       "0  [ecris, francais, oral, svt, tpe, fais, hum, g...  \n",
       "1  [les, hommes, garde, proposent, depuis, but, s...  \n",
       "2  [fastidieux, les, remerciements, journal, merc...  \n",
       "3  [arbitre, merde, cest, finit, cest, finit, hug...  \n",
       "4  [bin, irai, bien, travail, aujourd, hui, ben, ...  "
      ]
     },
     "execution_count": 27,
     "metadata": {},
     "output_type": "execute_result"
    }
   ],
   "source": [
    "def remove_stopword(tokens):\n",
    "     return [w for w in tokens if (w not in list_stopwords) & (len(w) > 2) ]\n",
    "\n",
    "df['tokens'] = df.tokens_all.apply(lambda tks : remove_stopword(tks) )\n",
    "\n",
    "df.head()"
   ]
  },
  {
   "cell_type": "markdown",
   "metadata": {},
   "source": [
    "# Téléchargement du JDD nettoyé sous format CSV"
   ]
  },
  {
   "cell_type": "code",
   "execution_count": 52,
   "metadata": {
    "collapsed": true
   },
   "outputs": [],
   "source": [
    "df.to_csv('sample4stm_clean.csv', sep=',', encoding='utf-8')"
   ]
  }
 ],
 "metadata": {
  "kernelspec": {
   "display_name": "Python 3",
   "language": "python",
   "name": "python3"
  },
  "language_info": {
   "codemirror_mode": {
    "name": "ipython",
    "version": 3
   },
   "file_extension": ".py",
   "mimetype": "text/x-python",
   "name": "python",
   "nbconvert_exporter": "python",
   "pygments_lexer": "ipython3",
   "version": "3.6.3"
  }
 },
 "nbformat": 4,
 "nbformat_minor": 2
}
